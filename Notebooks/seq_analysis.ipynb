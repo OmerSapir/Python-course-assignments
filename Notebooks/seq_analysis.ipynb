{
 "cells": [
  {
   "cell_type": "code",
   "execution_count": 1,
   "metadata": {},
   "outputs": [],
   "source": [
    "import re\n",
    "import argparse\n",
    "import random\n",
    "from Bio import Entrez\n",
    "from Bio import SeqIO"
   ]
  },
  {
   "cell_type": "code",
   "execution_count": 2,
   "metadata": {},
   "outputs": [],
   "source": [
    "def longest_seq(dna):\n",
    "    length = 1\n",
    "    result = ''\n",
    "    while True:\n",
    "        regex = r'([GATC]{' + str(length) + r'}).*\\1'\n",
    "        #print(regex)\n",
    "        m = re.search(regex, dna)\n",
    "        if m:\n",
    "            result = m.group(1)\n",
    "            length += 1\n",
    "        else:\n",
    "            break\n",
    "\n",
    "    print(result)\n",
    "    print(len(result))"
   ]
  },
  {
   "cell_type": "code",
   "execution_count": 3,
   "metadata": {},
   "outputs": [],
   "source": [
    "def get_longest_ORF(dna):\n",
    "    start_codon = \"ATG\"\n",
    "    stop_codons = [\"TAA\", \"TAG\", \"TGA\"]\n",
    "    \n",
    "    start_positions = [m.start() for m in re.finditer(start_codon, dna)]\n",
    "    stop_positions = {codon: [m.start() for m in re.finditer(codon, dna)] for codon in stop_codons}\n",
    "    \n",
    "    longest_orf = \"\"\n",
    "    \n",
    "    for start in start_positions:\n",
    "        for stop_codon in stop_codons:\n",
    "            for stop in stop_positions[stop_codon]:\n",
    "                if stop > start and (stop - start) % 3 == 0:\n",
    "                    orf = dna[start:stop+3]\n",
    "                    if len(orf) > len(longest_orf):\n",
    "                        longest_orf = orf\n",
    "                    break\n",
    "    \n",
    "    print(longest_orf)\n",
    "    print(len(longest_orf))"
   ]
  },
  {
   "cell_type": "code",
   "execution_count": 4,
   "metadata": {},
   "outputs": [],
   "source": [
    "def analyze_dna(path, longest_duplication, longest_ORF):\n",
    "    dna = SeqIO.read(path, \"genbank\")\n",
    "    str_dna = str(dna.seq)\n",
    "\n",
    "    if longest_duplication:\n",
    "        longest_seq(str_dna)\n",
    "\n",
    "    if longest_ORF:\n",
    "        get_longest_ORF(str_dna)"
   ]
  },
  {
   "cell_type": "code",
   "execution_count": 5,
   "metadata": {},
   "outputs": [
    {
     "name": "stderr",
     "output_type": "stream",
     "text": [
      "usage: ipykernel_launcher.py [-h] --input INPUT [--Duplicated] [--ORF]\n",
      "ipykernel_launcher.py: error: the following arguments are required: --input\n"
     ]
    },
    {
     "ename": "SystemExit",
     "evalue": "2",
     "output_type": "error",
     "traceback": [
      "An exception has occurred, use %tb to see the full traceback.\n",
      "\u001b[1;31mSystemExit\u001b[0m\u001b[1;31m:\u001b[0m 2\n"
     ]
    },
    {
     "name": "stderr",
     "output_type": "stream",
     "text": [
      "c:\\ProgramData\\Anaconda3\\envs\\env01\\Lib\\site-packages\\IPython\\core\\interactiveshell.py:3561: UserWarning: To exit: use 'exit', 'quit', or Ctrl-D.\n",
      "  warn(\"To exit: use 'exit', 'quit', or Ctrl-D.\", stacklevel=1)\n"
     ]
    }
   ],
   "source": [
    "if __name__ == \"__main__\":\n",
    "    parser = argparse.ArgumentParser(description=\"'Max length' DNA sequences analysis\")\n",
    "    parser.add_argument(\"--input\", required=True, help=\"GeneBank file path\")\n",
    "    parser.add_argument(\"--Duplicated\", action=\"store_true\", help=\"Perform the duplicated sequence analysis.\")\n",
    "    parser.add_argument(\"--ORF\", action=\"store_true\", help=\"Perform the ORF analysis.\")\n",
    "\n",
    "    args = parser.parse_args()\n",
    "    \n",
    "    analyze_dna(args.input, args.duplicate, args.ORF)"
   ]
  },
  {
   "cell_type": "code",
   "execution_count": null,
   "metadata": {},
   "outputs": [],
   "source": []
  }
 ],
 "metadata": {
  "kernelspec": {
   "display_name": "env01",
   "language": "python",
   "name": "python3"
  },
  "language_info": {
   "codemirror_mode": {
    "name": "ipython",
    "version": 3
   },
   "file_extension": ".py",
   "mimetype": "text/x-python",
   "name": "python",
   "nbconvert_exporter": "python",
   "pygments_lexer": "ipython3",
   "version": "3.12.2"
  }
 },
 "nbformat": 4,
 "nbformat_minor": 2
}
