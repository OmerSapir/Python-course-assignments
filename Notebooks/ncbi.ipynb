{
 "cells": [
  {
   "cell_type": "code",
   "execution_count": 1,
   "metadata": {},
   "outputs": [],
   "source": [
    "import sys\n",
    "import os\n",
    "import csv\n",
    "from datetime import datetime\n",
    "from Bio import Entrez"
   ]
  },
  {
   "cell_type": "code",
   "execution_count": 2,
   "metadata": {},
   "outputs": [],
   "source": [
    "Entrez.email = \"omer@sapir.com\"\n",
    "\n",
    "def search_protein_ncbi(term, number):\n",
    "    handle = Entrez.esearch(db='protein', term=term, idtype=\"acc\", retmax=number)\n",
    "    record = Entrez.read(handle)\n",
    "    handle.close()\n",
    "    return record[\"Count\"], record[\"IdList\"], len(record[\"IdList\"])"
   ]
  },
  {
   "cell_type": "code",
   "execution_count": 3,
   "metadata": {},
   "outputs": [
    {
     "data": {
      "text/plain": [
       "('3404939', ['WP_347813942.1', 'WP_347813756.1', 'WP_347813549.1'], 3)"
      ]
     },
     "execution_count": 3,
     "metadata": {},
     "output_type": "execute_result"
    }
   ],
   "source": [
    "search_protein_ncbi('arabidopsis thaliana', 3)"
   ]
  },
  {
   "cell_type": "code",
   "execution_count": 60,
   "metadata": {},
   "outputs": [],
   "source": [
    "def download_protein_ncbi(term, number):\n",
    "    Count, IdList, len_IdList = search_protein_ncbi(term, number)\n",
    "    doc_ids = IdList\n",
    "    \n",
    "    filenames = []\n",
    "    os.makedirs('Data', exist_ok=True)  # Ensure the directory exists\n",
    "\n",
    "    for i, doc_id in enumerate(doc_ids):\n",
    "        handle = Entrez.efetch(db=\"protein\", id=doc_id, rettype=\"gb\", retmode=\"text\")\n",
    "        data = handle.read()\n",
    "        handle.close()\n",
    "        filename = os.path.join('Data', f\"{term}_{doc_id}.gb\")\n",
    "        with open(filename, \"w\") as file:\n",
    "            file.write(data)\n",
    "        filenames.append(filename)\n",
    "\n",
    "    log_file = 'Search_log.csv'\n",
    "\n",
    "    file_exists = os.path.isfile('Search_log')\n",
    "    with open('Search_log', \"a\", newline=\"\") as csvfile:\n",
    "        fieldnames = [\"date\", \"term\", \"max\", \"total\"]\n",
    "        writer = csv.DictWriter(csvfile, fieldnames=fieldnames)\n",
    "        if not file_exists:\n",
    "            writer.writeheader()\n",
    "        writer.writerow({\n",
    "            \"date\": datetime.now().strftime(\"%Y-%m-%d %H:%M:%S\"),\n",
    "            \"term\": term,\n",
    "            \"max\": len_IdList,\n",
    "            \"total\": Count\n",
    "        })"
   ]
  },
  {
   "cell_type": "code",
   "execution_count": 63,
   "metadata": {},
   "outputs": [],
   "source": [
    "download_protein_ncbi('arabidopsis thaliana', 6, 'data_file', 'search_log')"
   ]
  },
  {
   "cell_type": "code",
   "execution_count": 28,
   "metadata": {},
   "outputs": [],
   "source": [
    "def main():\n",
    "    if len(sys.argv) != 5:\n",
    "        exit(f\"Usage: {sys.argv[0]} TERM NUMBER DATA_FOLDER SEARCH_LOG\")\n",
    "    \n",
    "    term = sys.argv[1]\n",
    "    count = int(sys.argv[2])\n",
    "    folder = sys.argv[3]\n",
    "    log = sys.argv[4]\n",
    "\n",
    "    download_protein_ncbi(term, count, folder, log)"
   ]
  },
  {
   "cell_type": "code",
   "execution_count": null,
   "metadata": {},
   "outputs": [],
   "source": [
    "if __name__ == \"__main__\":\n",
    "    main()"
   ]
  }
 ],
 "metadata": {
  "kernelspec": {
   "display_name": "env01",
   "language": "python",
   "name": "python3"
  },
  "language_info": {
   "codemirror_mode": {
    "name": "ipython",
    "version": 3
   },
   "file_extension": ".py",
   "mimetype": "text/x-python",
   "name": "python",
   "nbconvert_exporter": "python",
   "pygments_lexer": "ipython3",
   "version": "3.12.2"
  }
 },
 "nbformat": 4,
 "nbformat_minor": 2
}
