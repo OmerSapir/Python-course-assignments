{
 "cells": [
  {
   "cell_type": "code",
   "execution_count": 2,
   "metadata": {},
   "outputs": [],
   "source": [
    "import sys"
   ]
  },
  {
   "cell_type": "code",
   "execution_count": 3,
   "metadata": {},
   "outputs": [],
   "source": [
    "def count(file_name):\n",
    "    count_dict = {'characters': 0, 'words': 0, 'lines': 0} \n",
    "    with open(file_name) as fn:\n",
    "        text = fn.read()\n",
    "        for ch in text:\n",
    "            count_dict['characters']+=1\n",
    "            if ch=='\\n':\n",
    "                count_dict['lines']+=1\n",
    "        if count_dict['lines']!=0:\n",
    "            count_dict['lines']+=1 #last line without '\\n'\n",
    "        for w in text.split():\n",
    "            count_dict['words']+=1\n",
    "    return count_dict"
   ]
  },
  {
   "cell_type": "code",
   "execution_count": 4,
   "metadata": {},
   "outputs": [],
   "source": [
    "def main():\n",
    "    if len (sys.argv)!=2:\n",
    "        exit(f\"Usage: {sys.argv[0]} FileName\")\n",
    "    \n",
    "    file_name = sys.argv[1]\n",
    "    result = count(file_name)\n",
    "    print(result)"
   ]
  },
  {
   "cell_type": "code",
   "execution_count": null,
   "metadata": {},
   "outputs": [],
   "source": []
  }
 ],
 "metadata": {
  "kernelspec": {
   "display_name": "env01",
   "language": "python",
   "name": "python3"
  },
  "language_info": {
   "codemirror_mode": {
    "name": "ipython",
    "version": 3
   },
   "file_extension": ".py",
   "mimetype": "text/x-python",
   "name": "python",
   "nbconvert_exporter": "python",
   "pygments_lexer": "ipython3",
   "version": "3.12.2"
  }
 },
 "nbformat": 4,
 "nbformat_minor": 2
}
