{
 "cells": [
  {
   "cell_type": "code",
   "execution_count": 50,
   "metadata": {},
   "outputs": [],
   "source": [
    "import random"
   ]
  },
  {
   "cell_type": "code",
   "execution_count": 52,
   "metadata": {},
   "outputs": [],
   "source": [
    "def get_guess():\n",
    "    value = input(\"What is your guess?\")\n",
    "    if value.lower() in ['x', 'n', 's']:\n",
    "          return value.lower()\n",
    "    elif value.isdigit() == True:\n",
    "         return int(value)\n",
    "    else:\n",
    "         print(\"Enter a valid value\")"
   ]
  },
  {
   "cell_type": "code",
   "execution_count": 67,
   "metadata": {},
   "outputs": [],
   "source": [
    "def guessing_game():   \n",
    "    number = random.randrange(1,20)\n",
    "    tries = 0\n",
    "    while True:\n",
    "        guess = get_guess()\n",
    "        if type(guess)==int:\n",
    "            tries += 1\n",
    "            if guess > number:\n",
    "                print(\"To High\")\n",
    "                print(\"Try again\")\n",
    "            elif guess<number:\n",
    "                print(\"To Low\")\n",
    "                print(\"Try again\")\n",
    "            else:\n",
    "                print(\"You're correct!\")\n",
    "                print(f\"Number of Tries: {tries}\")\n",
    "                return 'win'\n",
    "        elif guess == 'n':\n",
    "            print (\"End game\")\n",
    "        elif guess == 's':\n",
    "            print(f\"Hidden number: {number}\")\n",
    "        elif guess == 'x':\n",
    "            print(\"Exit\")\n",
    "        return guess"
   ]
  },
  {
   "cell_type": "code",
   "execution_count": 68,
   "metadata": {},
   "outputs": [],
   "source": [
    "def main():\n",
    "    while True:\n",
    "        result = guessing_game()\n",
    "        if result == 'x':\n",
    "            break\n",
    "        if result == 'win':\n",
    "            play_again = input(\"Do you want to play another game? (yes/no)\")\n",
    "            if play_again.lower() != 'yes':\n",
    "                print(\"Thanks for playing!\")\n",
    "                break\n",
    "        elif result == 'n':\n",
    "            reset = input(\"Do you want to play a new game? (yes/no)\")\n",
    "            if reset.lower() != 'yes':\n",
    "                print(\"Thanks for playing!\")\n",
    "                break\n",
    "            else:\n",
    "                continue"
   ]
  },
  {
   "cell_type": "code",
   "execution_count": 71,
   "metadata": {},
   "outputs": [
    {
     "name": "stdout",
     "output_type": "stream",
     "text": [
      "End game\n"
     ]
    }
   ],
   "source": [
    "main()"
   ]
  },
  {
   "cell_type": "code",
   "execution_count": null,
   "metadata": {},
   "outputs": [],
   "source": [
    "def play_game():\n",
    "    number = random.randrange(1, 20)\n",
    "    tries = 0\n",
    "    while True:\n",
    "        guess = get_guess()\n",
    "\n",
    "        if type(guess) == int:\n",
    "            tries += 1\n",
    "            if guess > number:\n",
    "                print(\"Too High\")\n",
    "                print(\"Try again\")\n",
    "            elif guess < number:\n",
    "                print(\"Too Low\")\n",
    "                print(\"Try again\")\n",
    "            else:\n",
    "                print(\"You're correct!\")\n",
    "                print(f\"Number of Tries: {tries}\")\n",
    "                return 'won'\n",
    "        elif guess == 's':\n",
    "            print(f\"Hidden number: {number}\")\n",
    "        elif guess == 'n':\n",
    "            print(\"Game has been reset.\")\n",
    "            return 'reset'\n",
    "        elif guess == 'x':\n",
    "            print(\"Exiting the game...\")\n",
    "            return 'exit'\n",
    "\n",
    "\n",
    "def guessing_game():\n",
    "    while True:\n",
    "        result = play_game()\n",
    "        if result == 'exit':\n",
    "            break\n",
    "        if result == 'won':\n",
    "            play_again = input(\"You won! Do you want to play another game? (yes/no) \")\n",
    "            if play_again.lower() != 'yes':\n",
    "                print(\"Thanks for playing!\")\n",
    "                break\n",
    "        elif result == 'reset':\n",
    "            continue"
   ]
  },
  {
   "cell_type": "code",
   "execution_count": 49,
   "metadata": {},
   "outputs": [
    {
     "name": "stdout",
     "output_type": "stream",
     "text": [
      "Hidden number: 18\n",
      "You're correct!\n",
      "Number of Tries: 1\n"
     ]
    }
   ],
   "source": [
    "guessing_game()"
   ]
  },
  {
   "cell_type": "code",
   "execution_count": null,
   "metadata": {},
   "outputs": [],
   "source": [
    "def main():\n",
    "    while True:\n",
    "        value = guessing_game()\n",
    "        if value == 'Exit':\n",
    "            break\n",
    "        elif value == \"New game\":\n",
    "            "
   ]
  }
 ],
 "metadata": {
  "kernelspec": {
   "display_name": "env01",
   "language": "python",
   "name": "python3"
  },
  "language_info": {
   "codemirror_mode": {
    "name": "ipython",
    "version": 3
   },
   "file_extension": ".py",
   "mimetype": "text/x-python",
   "name": "python",
   "nbconvert_exporter": "python",
   "pygments_lexer": "ipython3",
   "version": "3.12.2"
  }
 },
 "nbformat": 4,
 "nbformat_minor": 2
}
