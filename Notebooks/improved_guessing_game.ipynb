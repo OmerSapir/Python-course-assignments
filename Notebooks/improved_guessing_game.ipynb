{
 "cells": [
  {
   "cell_type": "code",
   "execution_count": 1,
   "metadata": {},
   "outputs": [],
   "source": [
    "import random"
   ]
  },
  {
   "cell_type": "code",
   "execution_count": 31,
   "metadata": {},
   "outputs": [],
   "source": [
    "def get_guess():\n",
    "    value = input(\"What is your guess?\")\n",
    "    if value.lower() in ['x', 'n', 's']:\n",
    "          return value.lower()\n",
    "    elif value.isdigit() == True:\n",
    "         return int(value)\n",
    "    else:\n",
    "         print(\"Enter a valid value\")"
   ]
  },
  {
   "cell_type": "code",
   "execution_count": 56,
   "metadata": {},
   "outputs": [],
   "source": [
    "def guessing_game(number): \n",
    "    tries = 0\n",
    "    while True:\n",
    "        guess = get_guess()\n",
    "        if type(guess)==int:\n",
    "            tries += 1\n",
    "            if guess > number:\n",
    "                print(\"To High\")\n",
    "                print(\"Try again\")\n",
    "            elif guess < number:\n",
    "                print(\"To Low\")\n",
    "                print(\"Try again\")\n",
    "            else:\n",
    "                print(\"You're correct!\")\n",
    "                print(f\"Number of Tries: {tries}\")\n",
    "                return 'win'\n",
    "        elif guess == 'n':\n",
    "            print (\"End game\")\n",
    "            return 'n'\n",
    "        elif guess == 's':\n",
    "            print(f\"Hidden number: {number}\")\n",
    "        elif guess == 'x':\n",
    "            print(\"Exit\")\n",
    "            return 'x'"
   ]
  },
  {
   "cell_type": "code",
   "execution_count": 57,
   "metadata": {},
   "outputs": [],
   "source": [
    "def main():\n",
    "    number = random.randrange(1,20) \n",
    "    while True:\n",
    "        result = guessing_game(number)\n",
    "        if result == 'x':\n",
    "            break\n",
    "        if result == 'win':\n",
    "            play_again = input(\"Do you want to play another game? (yes/no)\")\n",
    "            if play_again.lower() != 'yes':\n",
    "                print(\"Thanks for playing!\")\n",
    "                break\n",
    "            else:\n",
    "                number = random.randrange(1,20)\n",
    "        elif result == 'n':\n",
    "            reset = input(\"Do you want to play a new game? (yes/no)\")\n",
    "            if reset.lower() != 'yes':\n",
    "                print(\"Thanks for playing!\")\n",
    "                break\n",
    "            else:\n",
    "                number = random.randrange(1,20)"
   ]
  },
  {
   "cell_type": "code",
   "execution_count": 58,
   "metadata": {},
   "outputs": [
    {
     "name": "stdout",
     "output_type": "stream",
     "text": [
      "To Low\n",
      "Try again\n",
      "To High\n",
      "Try again\n",
      "End game\n",
      "To Low\n",
      "Try again\n",
      "End game\n",
      "Hidden number: 18\n",
      "Hidden number: 18\n",
      "You're correct!\n",
      "Number of Tries: 1\n",
      "Thanks for playing!\n"
     ]
    }
   ],
   "source": [
    "main()"
   ]
  },
  {
   "cell_type": "code",
   "execution_count": null,
   "metadata": {},
   "outputs": [],
   "source": [
    "\n",
    "            "
   ]
  }
 ],
 "metadata": {
  "kernelspec": {
   "display_name": "env01",
   "language": "python",
   "name": "python3"
  },
  "language_info": {
   "codemirror_mode": {
    "name": "ipython",
    "version": 3
   },
   "file_extension": ".py",
   "mimetype": "text/x-python",
   "name": "python",
   "nbconvert_exporter": "python",
   "pygments_lexer": "ipython3",
   "version": "3.12.2"
  }
 },
 "nbformat": 4,
 "nbformat_minor": 2
}
