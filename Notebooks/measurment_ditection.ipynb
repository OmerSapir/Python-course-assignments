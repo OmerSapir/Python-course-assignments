{
 "cells": [
  {
   "cell_type": "code",
   "execution_count": 141,
   "metadata": {},
   "outputs": [],
   "source": [
    "import csv\n",
    "import pandas as pd\n",
    "import numpy as np\n",
    "import statistics"
   ]
  },
  {
   "cell_type": "code",
   "execution_count": 142,
   "metadata": {},
   "outputs": [],
   "source": [
    "def csv_to_df(filename, index_col):\n",
    "    df = pd.read_csv(filename, index_col=index_col, parse_dates=True)\n",
    "    return df\n"
   ]
  },
  {
   "cell_type": "code",
   "execution_count": 143,
   "metadata": {},
   "outputs": [],
   "source": [
    "def drop_high_var_idxs(filename, index_col, window_size, ths, col):\n",
    "    df = csv_to_df(filename, index_col=index_col)\n",
    "    df_interest = df[col]\n",
    "    if window_size > len(df_interest):\n",
    "        raise ValueError(\"Window size must be less than or equal to the length of the list.\")\n",
    "    \n",
    "    rows_to_drop = []\n",
    "\n",
    "    for i in range(len(df_interest) - window_size + 1):\n",
    "        window = df_interest.iloc[i:i + window_size]\n",
    "        window_var = statistics.variance(window)\n",
    "        if window_var > ths:\n",
    "            rows_to_drop.append(df_interest.index[i])\n",
    "    \n",
    "    df_clean = pd.DataFrame(df_interest.drop(rows_to_drop))\n",
    "    return df_clean"
   ]
  },
  {
   "cell_type": "code",
   "execution_count": 140,
   "metadata": {},
   "outputs": [
    {
     "data": {
      "text/html": [
       "<div>\n",
       "<style scoped>\n",
       "    .dataframe tbody tr th:only-of-type {\n",
       "        vertical-align: middle;\n",
       "    }\n",
       "\n",
       "    .dataframe tbody tr th {\n",
       "        vertical-align: top;\n",
       "    }\n",
       "\n",
       "    .dataframe thead th {\n",
       "        text-align: right;\n",
       "    }\n",
       "</style>\n",
       "<table border=\"1\" class=\"dataframe\">\n",
       "  <thead>\n",
       "    <tr style=\"text-align: right;\">\n",
       "      <th></th>\n",
       "      <th>hum_pressure</th>\n",
       "    </tr>\n",
       "    <tr>\n",
       "      <th>timestamp</th>\n",
       "      <th></th>\n",
       "    </tr>\n",
       "  </thead>\n",
       "  <tbody>\n",
       "    <tr>\n",
       "      <th>2023-08-26 04:52:40</th>\n",
       "      <td>100560.0</td>\n",
       "    </tr>\n",
       "    <tr>\n",
       "      <th>2023-08-26 04:52:41</th>\n",
       "      <td>100562.0</td>\n",
       "    </tr>\n",
       "    <tr>\n",
       "      <th>2023-08-26 04:52:42</th>\n",
       "      <td>100559.0</td>\n",
       "    </tr>\n",
       "    <tr>\n",
       "      <th>2023-08-26 04:52:43</th>\n",
       "      <td>100560.0</td>\n",
       "    </tr>\n",
       "    <tr>\n",
       "      <th>2023-08-26 04:52:44</th>\n",
       "      <td>100560.0</td>\n",
       "    </tr>\n",
       "    <tr>\n",
       "      <th>...</th>\n",
       "      <td>...</td>\n",
       "    </tr>\n",
       "    <tr>\n",
       "      <th>2023-08-26 05:46:28</th>\n",
       "      <td>100572.0</td>\n",
       "    </tr>\n",
       "    <tr>\n",
       "      <th>2023-08-26 05:46:29</th>\n",
       "      <td>100578.0</td>\n",
       "    </tr>\n",
       "    <tr>\n",
       "      <th>2023-08-26 05:46:30</th>\n",
       "      <td>100576.0</td>\n",
       "    </tr>\n",
       "    <tr>\n",
       "      <th>2023-08-26 05:46:31</th>\n",
       "      <td>100578.0</td>\n",
       "    </tr>\n",
       "    <tr>\n",
       "      <th>2023-08-26 05:46:32</th>\n",
       "      <td>100579.0</td>\n",
       "    </tr>\n",
       "  </tbody>\n",
       "</table>\n",
       "<p>2146 rows × 1 columns</p>\n",
       "</div>"
      ],
      "text/plain": [
       "                     hum_pressure\n",
       "timestamp                        \n",
       "2023-08-26 04:52:40      100560.0\n",
       "2023-08-26 04:52:41      100562.0\n",
       "2023-08-26 04:52:42      100559.0\n",
       "2023-08-26 04:52:43      100560.0\n",
       "2023-08-26 04:52:44      100560.0\n",
       "...                           ...\n",
       "2023-08-26 05:46:28      100572.0\n",
       "2023-08-26 05:46:29      100578.0\n",
       "2023-08-26 05:46:30      100576.0\n",
       "2023-08-26 05:46:31      100578.0\n",
       "2023-08-26 05:46:32      100579.0\n",
       "\n",
       "[2146 rows x 1 columns]"
      ]
     },
     "execution_count": 140,
     "metadata": {},
     "output_type": "execute_result"
    }
   ],
   "source": [
    "drop_high_var_idxs('2023-08-26 04-52-40.csv', 'timestamp', 10, 20, 'hum_pressure')"
   ]
  },
  {
   "cell_type": "code",
   "execution_count": null,
   "metadata": {},
   "outputs": [],
   "source": []
  },
  {
   "cell_type": "code",
   "execution_count": null,
   "metadata": {},
   "outputs": [],
   "source": []
  }
 ],
 "metadata": {
  "kernelspec": {
   "display_name": "env01",
   "language": "python",
   "name": "python3"
  },
  "language_info": {
   "codemirror_mode": {
    "name": "ipython",
    "version": 3
   },
   "file_extension": ".py",
   "mimetype": "text/x-python",
   "name": "python",
   "nbconvert_exporter": "python",
   "pygments_lexer": "ipython3",
   "version": "3.12.2"
  }
 },
 "nbformat": 4,
 "nbformat_minor": 2
}
