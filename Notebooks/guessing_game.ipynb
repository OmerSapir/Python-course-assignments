{
 "cells": [
  {
   "cell_type": "code",
   "execution_count": 2,
   "metadata": {},
   "outputs": [],
   "source": [
    "import random"
   ]
  },
  {
   "cell_type": "code",
   "execution_count": 3,
   "metadata": {},
   "outputs": [
    {
     "name": "stdout",
     "output_type": "stream",
     "text": [
      "To High\n",
      "Try again\n",
      "You're correct!\n",
      "Number of Tries: 2\n"
     ]
    }
   ],
   "source": [
    "number = random.randrange(1,20)\n",
    "tries = 0\n",
    "while True:\n",
    "    guess = int(input(\"What is your guess?\"))\n",
    "    tries += 1\n",
    "    if guess > number:\n",
    "        print(\"To High\")\n",
    "        print(\"Try again\")\n",
    "    elif guess<number:\n",
    "        print(\"To Low\")\n",
    "        print(\"Try again\")\n",
    "    else:\n",
    "        print(\"You're correct!\")\n",
    "        print(f\"Number of Tries: {tries}\")\n",
    "        break"
   ]
  },
  {
   "cell_type": "code",
   "execution_count": null,
   "metadata": {},
   "outputs": [],
   "source": []
  }
 ],
 "metadata": {
  "kernelspec": {
   "display_name": "env01",
   "language": "python",
   "name": "python3"
  },
  "language_info": {
   "codemirror_mode": {
    "name": "ipython",
    "version": 3
   },
   "file_extension": ".py",
   "mimetype": "text/x-python",
   "name": "python",
   "nbconvert_exporter": "python",
   "pygments_lexer": "ipython3",
   "version": "3.12.2"
  }
 },
 "nbformat": 4,
 "nbformat_minor": 2
}
