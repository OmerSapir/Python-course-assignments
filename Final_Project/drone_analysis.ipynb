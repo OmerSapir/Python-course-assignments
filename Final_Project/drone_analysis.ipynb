{
 "cells": [
  {
   "cell_type": "code",
   "execution_count": null,
   "metadata": {},
   "outputs": [],
   "source": [
    "import pandas as pd\n",
    "import numpy as np\n",
    "import matplotlib.pyplot as plt\n",
    "import statistics\n",
    "import matplotlib.ticker as ticker\n",
    "import matplotlib.dates as mdates\n",
    "import os\n",
    "import sys\n",
    "import json\n",
    "from Packages.steps_analysis import *\n",
    "from mplcursors import cursor"
   ]
  },
  {
   "cell_type": "code",
   "execution_count": null,
   "metadata": {},
   "outputs": [],
   "source": [
    "def csv_to_df(filename, index_col):\n",
    "    df = pd.read_csv(filename, index_col=index_col, parse_dates=True)\n",
    "    return df"
   ]
  },
  {
   "cell_type": "code",
   "execution_count": null,
   "metadata": {},
   "outputs": [],
   "source": [
    "def get_idxs_of_low_variance(a, var_ths, window_size):\n",
    "    # a.shape=[n_cols,T], var_ths.shape=[n_cols] or float, window_size=[n_cols, window]\n",
    "    a_windows = np.lib.stride_tricks.sliding_window_view(a,window_shape=window_size)\n",
    "    vars_are_small = (np.where(a_windows.var(-1)<var_ths,1,0))[0]\n",
    "    vars_are_small = np.where(vars_are_small.all(1)==1,1,0) # merge the column conditions\n",
    "    d = np.diff(vars_are_small)\n",
    "    starts = np.argwhere(d==1)[:,0]+1\n",
    "    ends = np.argwhere(d==-1)[:,0]+window_size[-1]-1\n",
    "    if starts[0]>ends[0]: starts = np.concatenate([np.array([0]),starts])\n",
    "    if starts[-1]>ends[-1]: ends = np.concatenate([ends,np.array([a.shape[-1]-1])])\n",
    "    step_idxs = [np.arange(s,e+1) for s,e in zip(starts,ends)]\n",
    "    return starts, ends, step_idxs"
   ]
  },
  {
   "cell_type": "code",
   "execution_count": null,
   "metadata": {},
   "outputs": [],
   "source": [
    "def plot_f_with_selections(df, cols, selections, idxs_to_plot=None, x_is_time=False, invert_y=False, to_use_cursor=True):\n",
    "    if idxs_to_plot is None: idxs_to_plot= np.arange(len(df))\n",
    "    fig, ax = plt.subplots(figsize=(10,4))\n",
    "    if x_is_time:\n",
    "        x = df.index[idxs_to_plot]\n",
    "        ax.xaxis.set_major_formatter(mdates.DateFormatter('%H:%M, %d/%m'))\n",
    "        plt.setp(ax.xaxis.get_majorticklabels(), rotation=-45, ha=\"left\")\n",
    "    else:\n",
    "        x = np.arange(idxs_to_plot.shape[0])[idxs_to_plot]\n",
    "    for col in cols:\n",
    "        ax.plot(x, df[col].to_numpy()[idxs_to_plot])\n",
    "    if invert_y: plt.gca().invert_yaxis()\n",
    "    for i,selection in enumerate(selections):\n",
    "        ax.axvspan(x[selection[0]], x[selection[1]], alpha=0.2, color='green')\n",
    "        ax.text(x[selection[0]],ax.get_ylim()[1]*0.8+ax.get_ylim()[0]*0.2, f\"{i}\",fontsize=10, rotation=0)\n",
    "    if to_use_cursor: cursor(hover=True)\n",
    "    plt.show()"
   ]
  },
  {
   "cell_type": "code",
   "execution_count": null,
   "metadata": {},
   "outputs": [],
   "source": [
    "def suggest_steps_and_get_df_from_path(filename, step_cols, ths, window_size, invert_y=False, step_size=None, index_col='timestamp', idxs_to_plot=None):\n",
    "    df = csv_to_df(filename, index_col=index_col, parse_dates=True)\n",
    "    starts, ends, step_idxs = get_idxs_of_low_variance(df[step_cols].to_numpy().T, ths, window_size)\n",
    "    starts = starts if step_size is None else [end-step_size for end in ends]\n",
    "    print(\"suggested indices for steps:\")\n",
    "    selections = [[s,e] for s,e in zip(starts, ends)]\n",
    "    for selection in selections:\n",
    "        print(f\"{selection},\")\n",
    "    plot_f_with_selections(df, step_cols, selections, idxs_to_plot=idxs_to_plot, x_is_time=False, invert_y=invert_y, to_use_cursor=True)\n",
    "    return df"
   ]
  }
 ],
 "metadata": {
  "language_info": {
   "name": "python"
  }
 },
 "nbformat": 4,
 "nbformat_minor": 2
}
